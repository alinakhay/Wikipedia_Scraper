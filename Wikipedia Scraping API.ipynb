{
 "cells": [
  {
   "cell_type": "code",
   "execution_count": 5,
   "metadata": {
    "ExecuteTime": {
     "end_time": "2021-07-18T18:59:25.156288Z",
     "start_time": "2021-07-18T18:59:25.142325Z"
    }
   },
   "outputs": [],
   "source": [
    "# !pip3 install wikipedia"
   ]
  },
  {
   "cell_type": "code",
   "execution_count": 3,
   "metadata": {
    "ExecuteTime": {
     "end_time": "2021-07-18T18:59:07.369621Z",
     "start_time": "2021-07-18T18:59:06.980836Z"
    }
   },
   "outputs": [],
   "source": [
    "import wikipedia as wiki"
   ]
  },
  {
   "cell_type": "markdown",
   "metadata": {},
   "source": [
    "To explain the use of this package, I will scrape information based on Python. So let’s start with the task to scrape Wikipedia articles. The code below will get all the search suggestions of our input. In our case, it will return the search suggestions of Python:"
   ]
  },
  {
   "cell_type": "code",
   "execution_count": 4,
   "metadata": {
    "ExecuteTime": {
     "end_time": "2021-07-18T18:59:20.902566Z",
     "start_time": "2021-07-18T18:59:20.277684Z"
    }
   },
   "outputs": [
    {
     "name": "stdout",
     "output_type": "stream",
     "text": [
      "['Python', 'Python (programming language)', 'Monty Python', 'Reticulated python', 'Ball python', 'History of Python', 'PYTHON', 'Burmese python', 'African rock python', 'Python Software Foundation']\n"
     ]
    }
   ],
   "source": [
    "print(wiki.search(\"Python\"))"
   ]
  },
  {
   "cell_type": "markdown",
   "metadata": {},
   "source": [
    "Now let’s see will the search engine on Wikipedia suggest us python if we will type only some alphabets of its spelling:"
   ]
  },
  {
   "cell_type": "code",
   "execution_count": 6,
   "metadata": {
    "ExecuteTime": {
     "end_time": "2021-07-18T19:00:28.505044Z",
     "start_time": "2021-07-18T19:00:27.880659Z"
    }
   },
   "outputs": [
    {
     "name": "stdout",
     "output_type": "stream",
     "text": [
      "pith\n"
     ]
    }
   ],
   "source": [
    "print(wiki.suggest(\"Pyth\"))"
   ]
  },
  {
   "cell_type": "markdown",
   "metadata": {},
   "source": [
    "Yes, it works, now let’s have a look how we can get the summary of an article on Wikipedia:"
   ]
  },
  {
   "cell_type": "code",
   "execution_count": 7,
   "metadata": {
    "ExecuteTime": {
     "end_time": "2021-07-18T19:03:32.047797Z",
     "start_time": "2021-07-18T19:03:29.709648Z"
    }
   },
   "outputs": [
    {
     "name": "stdout",
     "output_type": "stream",
     "text": [
      "Python is an interpreted high-level general-purpose programming language. Python's design philosophy emphasizes code readability with its notable use of significant indentation. Its language constructs as well as its object-oriented approach aim to help programmers write clear, logical code for small and large-scale projects.Python is dynamically-typed and garbage-collected. It supports multiple programming paradigms, including structured (particularly, procedural), object-oriented and functional programming. Python is often described as a \"batteries included\" language due to its comprehensive standard library.Guido van Rossum began working on Python in the late 1980s, as a successor to the ABC programming language, and first released it in 1991 as Python 0.9.0. Python 2.0 was released in 2000 and introduced new features, such as list comprehensions and a garbage collection system using reference counting. Python 3.0 was released in 2008 and was a major revision of the language that is not completely backward-compatible and much Python 2 code does not run unmodified on Python 3. Python 2 was discontinued with version 2.7.18 in 2020.Python consistently ranks as one of the most popular programming languages.\n"
     ]
    }
   ],
   "source": [
    "print(wiki.summary(\"Python\"))"
   ]
  },
  {
   "cell_type": "markdown",
   "metadata": {},
   "source": [
    "If you want to read the summary in another language other than English, we can also do that. I will get the same summary above in the French language:"
   ]
  },
  {
   "cell_type": "code",
   "execution_count": 8,
   "metadata": {
    "ExecuteTime": {
     "end_time": "2021-07-18T19:04:04.870395Z",
     "start_time": "2021-07-18T19:04:03.078692Z"
    }
   },
   "outputs": [
    {
     "name": "stdout",
     "output_type": "stream",
     "text": [
      "Python (prononcé /pi.tɔ̃/) est un langage de programmation interprété, multi-paradigme et multiplateformes. Il favorise la programmation impérative structurée, fonctionnelle et orientée objet. Il est doté d'un typage dynamique fort, d'une gestion automatique de la mémoire par ramasse-miettes et d'un système de gestion d'exceptions ; il est ainsi similaire à Perl, Ruby, Scheme, Smalltalk et Tcl.\n",
      "Le langage Python est placé sous une licence libre proche de la licence BSD et fonctionne sur la plupart des plates-formes informatiques, des smartphones aux ordinateurs centraux, de Windows à Unix avec notamment GNU/Linux en passant par macOS, ou encore Android, iOS, et peut aussi être traduit en Java ou .NET. Il est conçu pour optimiser la productivité des programmeurs en offrant des outils de haut niveau et une syntaxe simple à utiliser.\n",
      "Il est également apprécié par certains pédagogues qui y trouvent un langage où la syntaxe, clairement séparée des mécanismes de bas niveau, permet une initiation aisée aux concepts de base de la programmation.\n"
     ]
    }
   ],
   "source": [
    "wiki.set_lang(\"fr\")\n",
    "print(wiki.summary(\"Python\"))"
   ]
  },
  {
   "cell_type": "markdown",
   "metadata": {},
   "source": [
    "Now let’s change the language back to English and have a look at some more insights from the article. Here I will scrape all the information we will get if we will read about python on Wikipedia:"
   ]
  },
  {
   "cell_type": "code",
   "execution_count": 10,
   "metadata": {
    "ExecuteTime": {
     "end_time": "2021-07-18T19:05:20.768853Z",
     "start_time": "2021-07-18T19:05:19.534661Z"
    }
   },
   "outputs": [],
   "source": [
    "wiki.set_lang(\"en\")\n",
    "p = wiki.page(\"Python (programming language)\")"
   ]
  },
  {
   "cell_type": "code",
   "execution_count": 11,
   "metadata": {
    "ExecuteTime": {
     "end_time": "2021-07-18T19:05:22.220711Z",
     "start_time": "2021-07-18T19:05:22.205713Z"
    }
   },
   "outputs": [
    {
     "name": "stdout",
     "output_type": "stream",
     "text": [
      "Python (programming language)\n"
     ]
    }
   ],
   "source": [
    "print(p.title)"
   ]
  },
  {
   "cell_type": "code",
   "execution_count": 12,
   "metadata": {
    "ExecuteTime": {
     "end_time": "2021-07-18T19:05:29.764722Z",
     "start_time": "2021-07-18T19:05:29.757720Z"
    }
   },
   "outputs": [
    {
     "name": "stdout",
     "output_type": "stream",
     "text": [
      "https://en.wikipedia.org/wiki/Python_(programming_language)\n"
     ]
    }
   ],
   "source": [
    "print(p.url)"
   ]
  },
  {
   "cell_type": "markdown",
   "metadata": {},
   "source": [
    "To scrape the full article:"
   ]
  },
  {
   "cell_type": "code",
   "execution_count": null,
   "metadata": {},
   "outputs": [],
   "source": [
    "print(p.content)"
   ]
  },
  {
   "cell_type": "markdown",
   "metadata": {},
   "source": [
    "To get all the images in the article:"
   ]
  },
  {
   "cell_type": "code",
   "execution_count": 13,
   "metadata": {
    "ExecuteTime": {
     "end_time": "2021-07-18T19:05:52.462830Z",
     "start_time": "2021-07-18T19:05:51.861596Z"
    }
   },
   "outputs": [
    {
     "name": "stdout",
     "output_type": "stream",
     "text": [
      "['https://upload.wikimedia.org/wikipedia/commons/b/b5/DNC_training_recall_task.gif', 'https://upload.wikimedia.org/wikipedia/commons/3/31/Free_and_open-source_software_logo_%282009%29.svg', 'https://upload.wikimedia.org/wikipedia/commons/9/94/Guido_van_Rossum_OSCON_2006_cropped.png', 'https://upload.wikimedia.org/wikipedia/commons/6/6f/Octicons-terminal.svg', 'https://upload.wikimedia.org/wikipedia/commons/c/c3/Python-logo-notext.svg', 'https://upload.wikimedia.org/wikipedia/commons/1/10/Python_3._The_standard_type_hierarchy.png', 'https://upload.wikimedia.org/wikipedia/commons/f/f8/Python_logo_and_wordmark.svg', 'https://upload.wikimedia.org/wikipedia/commons/d/df/Wikibooks-logo-en-noslogan.svg', 'https://upload.wikimedia.org/wikipedia/commons/f/fa/Wikibooks-logo.svg', 'https://upload.wikimedia.org/wikipedia/commons/f/ff/Wikidata-logo.svg', 'https://upload.wikimedia.org/wikipedia/commons/f/fa/Wikiquote-logo.svg', 'https://upload.wikimedia.org/wikipedia/commons/0/0b/Wikiversity_logo_2017.svg', 'https://upload.wikimedia.org/wikipedia/en/4/4a/Commons-logo.svg', 'https://upload.wikimedia.org/wikipedia/en/8/8a/OOjs_UI_icon_edit-ltr-progressive.svg', 'https://upload.wikimedia.org/wikipedia/en/9/96/Symbol_category_class.svg', 'https://upload.wikimedia.org/wikipedia/en/d/db/Symbol_list_class.svg', 'https://upload.wikimedia.org/wikipedia/en/e/e2/Symbol_portal_class.svg', 'https://upload.wikimedia.org/wikipedia/en/9/94/Symbol_support_vote.svg']\n"
     ]
    }
   ],
   "source": [
    "print(p.images)"
   ]
  },
  {
   "cell_type": "markdown",
   "metadata": {},
   "source": [
    "And to get all the referals used by Wikipedia in the article:"
   ]
  },
  {
   "cell_type": "code",
   "execution_count": 14,
   "metadata": {
    "ExecuteTime": {
     "end_time": "2021-07-18T19:06:27.607769Z",
     "start_time": "2021-07-18T19:06:26.408571Z"
    }
   },
   "outputs": [
    {
     "name": "stdout",
     "output_type": "stream",
     "text": [
      "['\"Hello, World!\" program', '3ds Max', '?:', 'ABC (programming language)', 'ADMB', 'ALGOL', 'ALGOL 68', 'APL (programming language)', 'Abaqus', 'Academic Free License', 'Academic conference', 'Action selection', 'Activation function', 'Ada (programming language)', 'Advanced Simulation Library', 'Adversarial machine learning', 'AlexNet', 'Alex Graves (computer scientist)', 'Alex Martelli', 'Algebra', 'AlphaFold', 'AlphaGo', 'Alternative terms for free software', 'Amazon (company)', 'AmigaOS 4', 'Amoeba (operating system)', 'Anaconda (installer)', 'Analyse-it', 'Andrew Ng', 'Anonymous function', 'Apache Groovy', 'Apache License', 'Apache web server', 'Aphorism', 'Apple M1', 'Apple Public Source License', 'ArXiv (identifier)', 'Arbitrary-precision arithmetic', 'ArcGIS', 'Array index', 'Array slicing', 'Artificial intelligence', 'Artificial neural network', 'Artistic License', 'Aspect-oriented programming', 'Assembly language', 'Assertion (programming)', 'Assignment (computer science)', 'Associative array', 'Astropy', 'Attention (machine learning)', 'Autodesk Softimage', 'Automatic differentiation', 'Automation', 'BASIC', 'BERT (language model)', 'BMDP', 'BSD licenses', 'BV4.1 (software)', 'B (programming language)', 'Backporting', 'Backpropagation', 'Backward compatibility', 'Batch normalization', 'Bazel (software)', 'Beerware', 'Benevolent Dictator For Life', 'Beta release', 'Bibcode (identifier)', 'Biopython', 'Blender (software)', 'Block (programming)', 'Boo (programming language)', 'Boolean value', 'Bottle (web framework)', 'Break statement', 'Bug tracker', 'Byte', 'Bytecode', 'C++', 'C11 (C standard revision)', 'C89 (C version)', 'C99', 'CCP Games', 'CERN', 'CLPython', 'CLU (programming language)', 'COBOL', 'CPython', 'CSPro', 'C (programming language)', 'C Sharp (programming language)', 'Cable theory', 'Cache poisoning', 'Calculus', 'Call stack', 'Capella (notation program)', 'Centrum Wiskunde & Informatica', 'Chapel (programming language)', 'CherryPy', 'Chris Lattner', 'Cinema 4D', 'CircuitPython', 'CiteSeerX (identifier)', 'Class (computer science)', 'Cluster analysis', 'Cobra (programming language)', 'Code readability', 'CoffeeScript', 'Combinatorics', 'Command line interpreter', 'Commercial software', 'Common Development and Distribution License', 'Common Language Runtime', 'Common Lisp', 'Community of practice', 'Comparison of free and open-source software licences', 'Comparison of free geophysics software', 'Comparison of free software for audio', 'Comparison of integrated development environments', 'Comparison of numerical-analysis software', 'Comparison of open-source and closed-source software', 'Comparison of open-source configuration management software', 'Comparison of open-source operating systems', 'Comparison of open-source programming language licensing', 'Comparison of open-source wireless drivers', 'Comparison of programming languages', 'Comparison of shopping cart software', 'Comparison of source-code-hosting facilities', 'Comparison of statistical packages', 'Compile time', 'Complex number', 'Computational learning theory', 'Computational science', 'Computer algebra system', 'Computer file', 'Computer networking', 'Computer vision', 'Concatenation', 'Conditional (programming)', 'Contributor License Agreement', 'Convolution', 'Copyleft', 'Coroutine', 'Creative Commons license', 'Cross-platform software', 'CubicWeb', 'CumFreq', 'Curly bracket programming language', 'Cycle detection', 'Cython', 'DADiSP', 'DALL-E', 'DAP (software)', 'D (programming language)', 'Data Desk', 'Data analytics', 'Data augmentation', 'Data mapper pattern', 'Data type', 'Databases', 'Dataplot', 'David Silver (computer scientist)', 'Debian Free Software Guidelines', 'Decimal floating point', 'DeepMind', 'Deep learning', 'Definition of Free Cultural Works', 'Demis Hassabis', 'Design by contract', 'Device Driver', 'Differentiable function', 'Differentiable neural computer', 'Differentiable programming', 'Digital image processing', 'Digital rights management', 'Dispose pattern', 'Django (web framework)', 'Documentation', 'Doi (identifier)', 'Double-precision floating-point format', 'Doxygen', 'Dropbox (service)', 'Duck typing', 'Dylan (programming language)', 'Dynamic programming language', 'Dynamic type', 'Dynamic typing', 'ECMAScript', 'EViews', 'Eclipse Public License', 'Ellipsis (programming operator)', 'End-of-life (product)', 'Epi Info', 'Eric Python IDE', 'Erlang (programming language)', 'Escape character', 'Esri', 'Euler (software)', 'Exception handling', 'Exception handling syntax', 'Exponentiation', 'Expression (computer science)', 'Extensibility', 'FEATool Multiphysics', 'F Sharp (programming language)', 'Facebook', 'Facial recognition system', 'Factorial', 'FastAPI', 'Fedora (operating system)', 'Fei-Fei Li', 'Fellow', 'Filename extension', 'Finite element method', 'Firaxis Games', 'First-class continuations', 'Flask (web framework)', 'Floating-point arithmetic', 'Foobar', 'Foreach', 'Fork (software development)', 'Forth (programming language)', 'Fortran', 'Fortress (programming language)', 'Free-software license', 'FreeBSD', 'FreeCAD', 'FreeFem++', 'FreeMat', 'Free Software Foundation', 'Free and open-source graphics device driver', 'Free and open-source software', 'Free license', 'Free software', 'Free software movement', 'Freeware', 'Function (computing)', 'Function (programming)', 'Functional programming', 'GAUSS (software)', 'GDScript', 'GIMP', 'GNU Debugger', 'GNU General Public License', 'GNU Lesser General Public License', 'GNU Manifesto', 'GNU Octave', 'GPT-2', 'GPT-3', 'GTK', 'Garbage collection (computer science)', 'General-purpose programming language', 'Generational list of programming languages', 'Generator (computer programming)', 'Generator (computer science)', 'Genie (programming language)', 'Genius (mathematics software)', 'Genstat', 'Gentoo Linux', 'Geoffrey Hinton', 'GitHub', 'Global interpreter lock', 'Gmsh', 'Go (programming language)', 'Godot (game engine)', 'Google', 'Google App Engine', 'Google Brain', 'Gradient descent', 'Gradual typing', 'GraphPad InStat', 'GraphPad Prism', 'Graphcore', 'Graphical user interface', 'Graphical user interfaces', 'Graphviz', 'Gratis versus libre', 'Gretl', 'Grok (web framework)', 'Groovy (programming language)', 'Guido van Rossum', 'Half-open interval', 'Handwriting recognition', 'Hardware description language', 'Hardware restriction', 'Haskell (programming language)', 'Here document', 'High-level programming language', 'History of Python', 'History of free and open-source software', 'History of programming languages', 'Houdini (software)', 'Human image synthesis', 'Hypertext Transfer Protocol', 'IDLE', 'IDLE (Python)', 'IEEE 754', 'IPython', 'ISBN (identifier)', 'ISC license', 'ITA Software', 'Ian Goodfellow', 'Icon (programming language)', 'If-then-else', 'Image processing', 'Immutable', 'Immutable object', 'Imperative programming', 'Include directive', 'Industrial Light & Magic', 'Infix notation', 'InfoWorld', 'Information security', 'Inkscape', 'Instagram', 'Instance data', 'Integer (computer science)', 'Integrated development environment', 'Interpreted language', 'IronPython', 'Iterator', 'JASP', 'JMP (statistical software)', 'JMulTi', 'JavaScript', 'Java (programming language)', 'Java (software platform)', 'Jeff Dean (computer scientist)', 'Julia (programming language)', 'Just-in-time compilation', 'Just another Gibbs sampler', 'Jython', 'Keras', 'Kotlin (programming language)', 'LIMDEP', 'LISREL', 'LLVM', 'LabVIEW', 'Lambda (programming)', 'Language binding', 'Language construct', 'Late binding', 'Lazy evaluation', 'Lego Mindstorms EV3', 'LibreOffice', 'License proliferation', 'Lightwave', 'Linux', 'Linux distribution', 'Lisp (programming language)', 'List (computer science)', 'List comprehension', 'List comprehensions', 'List of Python software', 'List of commercial open-source applications and services', 'List of formerly open-source software', 'List of formerly proprietary software', 'List of free-software events', 'List of free and open-source Android applications', 'List of free and open-source iOS applications', 'List of free and open-source software organizations', 'List of free and open-source software packages', 'List of free and open-source web applications', 'List of free software project directories', 'List of free television software', 'List of integrated development environments for Python', 'List of numerical-analysis software', 'List of office suites', 'List of open-source bioinformatics software', 'List of open-source codecs', 'List of open-source health software', 'List of open-source routing platforms', 'List of open-source software for mathematics', 'List of open-source video games', 'List of programming languages', 'List of programming languages by type', 'List of statistical software', 'List of trademarked open-source software', 'Lock (computer science)', 'Logic programming', 'Long-term support', 'Loss functions for classification', 'Lua (programming language)', 'MATLAB', 'MFEM', 'MIME', 'MIT Computer Science and Artificial Intelligence Laboratory', 'MIT License', 'ML (programming language)', 'MLwiN', 'MacOS', 'Machine learning', 'Maple (software)', 'Mathcad', 'Mathematics', 'Matplotlib', 'Matrix multiplication', 'Maya (software)', 'MedCalc', 'Memory management', 'Memristor', 'Mercurial', 'Metaclass', 'Metaobject', 'Metaprogramming', 'Metasyntactic variable', 'Method (computing)', 'Method (programming)', 'MicroPython', 'Microcontroller', 'Microfit', 'Microsoft Excel', 'Microsoft Open Specification Promise', 'Microsoft Windows', 'Microthread', 'Mila (research institute)', 'Minitab', 'Mobile App', 'Mod wsgi', 'Modo (software)', 'Modula-3', 'Modular programming', 'Modulo operation', 'Monty Python', 'MotionBuilder', 'Mozilla Public License', 'Mozilla software rebranded by Debian', 'MuZero', 'Multi-paradigm programming language', 'Multimedia', 'Musical notation', 'MyHDL', 'N900', 'NASA', 'NCSS (statistical software)', 'NOP (code)', 'Nagare (web framework)', 'Name resolution (programming languages)', 'Natural language processing', 'Neologism', 'NetBSD', 'Netherlands', 'Neural Turing machine', 'Neural machine translation', 'Neuromorphic engineering', 'Nevow', 'Nim (programming language)', 'Ninja-IDE', 'Nokia', 'Non-English-based programming languages', 'Norman Jouppi', 'Notebook interface', 'Nuitka', 'Nuke (software)', 'Null pointer', 'NumPy', 'Numba', 'Number theory', 'Numerical mathematics', \"O'Reilly Media\", \"O'Reilly Open Source Convention\", 'OS/2', 'Object-oriented programming', 'Object (computer science)', 'Object language', 'Objective-C', 'Off-side rule', 'One Laptop per Child', 'Open-core model', 'Open-source-software movement', 'Open-source hardware', 'Open-source license', 'Open-source software', 'Open-source software development', 'Open-source software security', 'OpenAI', 'OpenAI Five', 'OpenBSD', 'OpenBUGS', 'OpenCV', 'OpenFOAM', 'OpenVMS', 'Operating system', 'Operator overloading', 'Optical character recognition', 'Oracle Corporation', 'Orange (software)', 'Order of operations', 'Outline of free software', 'Overfitting', 'OxMetrics', 'PHP', 'PSPP', 'Package management system', 'Paint Shop Pro', 'Pascal (programming language)', 'Pattern matching', 'Pattern recognition', 'Pdoc', 'Perl', 'Permissive software license', 'Peter Norvig', 'Pip (package manager)', 'Pointer (computer programming)', 'Portage (software)', 'Ported', 'Premature optimization', 'Prettyprint', 'Printf format string', 'Procedural programming', 'Programmers', 'Programming language', 'Programming language implementation', 'Programming paradigm', 'Programming paradigms', 'Project Debater', 'Project Jupyter', 'Prolog', 'Proprietary device driver', 'Proprietary firmware', 'Proprietary software', 'Pseudorandom number generator', 'Psyco', 'Public-domain software', 'Public domain', 'PyCharm', 'PyCon', 'PyDev', 'PyGTK', 'PyMC3', 'PyPy', 'PyQt', 'PyS60', 'PyTorch', 'Pydoc', 'Pygame', 'Pyjs', 'Pyladies', 'Pylons (web framework)', 'Pylons project', 'Pyramid (web framework)', 'Pyrex (programming language)', 'PythonAnywhere', 'Python (disambiguation)', 'Python Conference', 'Python License', 'Python Package Index', 'Python Software Foundation', 'Python Software Foundation License', 'Python for S60', 'Python syntax and semantics', 'Q-learning', 'Qt (software)', 'Quixote (web framework)', 'RATS (software)', 'RExcel', 'RPython', 'RStudio', 'R (programming language)', 'Raspberry Pi', 'Rational number', 'Raw string', 'Read–eval–print loop', 'Rectifier (neural networks)', 'Red Hat Linux', 'Reddit', 'Reference counting', 'Reference implementation', 'Reflection (computer science)', 'Reflective programming', 'Regression analysis', 'Regular expression', 'Regularization (mathematics)', 'Relational database', 'Remote code execution', 'Resource acquisition is initialization', 'Revolution Analytics', 'Revolution OS', 'Ring-lang', 'Robot control', 'Round to even', 'Rounding', 'Roundup (issue tracker)', 'Ruby (programming language)', 'Run-time algorithm specialization', 'Rust (programming language)', 'S-PLUS', 'S2CID (identifier)', 'SAS (software)', 'SCO–Linux disputes', 'SETL', 'SHAZAM (software)', 'SOFA Statistics', 'SPSS', 'SPSS Modeler', 'SQL', 'SQLAlchemy', 'SUDAAN', 'SUDOC (identifier)', 'SYSTAT (software)', 'SageMath', 'Salome (software)', 'Scheme (programming language)', 'SciPy', 'ScicosLab', 'Scientific computing', 'Scikit-learn', 'Scilab', 'Scorewriter', 'Scribus', 'Scripting language', 'SegReg', 'Self-driving car', 'Self-hosting (web services)', 'Series 60', 'Set (computer science)', 'Shallow copy', 'Shared Source Initiative', 'Shed Skin', 'Shell script', 'SigmaStat', 'SigmaXL', 'Sigmoid function', 'SimFiT', 'Simple DirectMedia Layer', 'Simula', 'Single-board computer', 'Sleepycat License', 'Smalltalk', 'SmartPLS', 'Softmax function', 'Software design', 'Software developer', 'Software license', 'Software patents and free software', 'Software release life cycle', 'Solaris (operating system)', 'Source-available software', 'Spam (Monty Python)', 'Speakeasy (computational environment)', 'Speech recognition', 'Speech synthesis', 'Sphinx (documentation generator)', 'SpiNNaker', 'Spotify', 'Stack Overflow', 'Stackless Python', 'Stan (software)', 'Standard ML', 'Standard library', 'StatView', 'StatXact', 'Stata', 'Statement (computer science)', 'State–action–reward–state–action', 'Statically-typed', 'Statistica', 'StatsDirect', 'Statsmodels', 'Stochastic gradient descent', 'String (computer science)', 'String interpolation', 'String literal', 'Strong and weak typing', 'Structured programming', 'Stuart J. Russell', 'Sugar (software)', 'Sugar Labs', 'Swift (programming language)', 'Symbian', 'Syntactic sugar', 'Syntax highlighting', 'System administration', 'TACTIC (web framework)', 'TIOBE Programming Community Index', 'TIOBE index', 'TSP (econometrics software)', 'Tail call', 'Tcl', 'TensorFlow', 'Tensor calculus', 'Tensor processing unit', 'Test framework', 'Test suite', 'Text processing', 'The C Programming Language', 'The Cathedral and the Bazaar', 'The Computer Language Benchmarks Game', 'The Document Foundation', 'The Free Software Definition', 'The Open Source Definition', 'The Unscrambler', 'Theano (software)', 'There is more than one way to do it', 'This (computer programming)', 'Timeline of free and open-source software', 'Timeline of programming languages', 'Tornado (web server)', 'Training, validation, and test sets', 'Transformer (machine learning model)', 'Transpile', 'Trusted Computing', 'Tuple', 'TurboGears', 'Twisted (software)', 'Type system', 'Ubiquity (software)', 'Ubuntu (operating system)', 'Unary operation', 'Unicode', 'Unistat', 'Unit test', 'Unit testing', 'Unix-like', 'Unix shell', 'Unladen Swallow', 'Unlicense', 'VHDL', 'Verilog', 'Viral license', 'Virtual machine', 'VisSim', 'Vision processing unit', 'WTFPL', 'Watson (computer)', 'WaveNet', 'Web2py', 'Web Server Gateway Interface', 'Web application', 'Web browser', 'Web framework', 'Web scraping', 'Webware for Python', 'Weka (machine learning)', 'While loop', 'Whitespace character', 'Wikipedia', 'WinBUGS', 'Windows', 'Windows 7', 'Windows XP', 'Wolfram Mathematica', 'Word2vec', 'World Programming System', 'X-12-ARIMA', 'X10 (programming language)', 'XLfit', 'XLispStat', 'XploRe', 'Yahoo!', 'Yann LeCun', 'Yoshua Bengio', 'Yukihiro Matsumoto', 'Zen of Python', 'Zero-based numbering', 'Zlib License', 'Zope']\n"
     ]
    }
   ],
   "source": [
    "print(p.links)"
   ]
  },
  {
   "cell_type": "code",
   "execution_count": null,
   "metadata": {},
   "outputs": [],
   "source": []
  }
 ],
 "metadata": {
  "kernelspec": {
   "display_name": "Python 3",
   "language": "python",
   "name": "python3"
  },
  "language_info": {
   "codemirror_mode": {
    "name": "ipython",
    "version": 3
   },
   "file_extension": ".py",
   "mimetype": "text/x-python",
   "name": "python",
   "nbconvert_exporter": "python",
   "pygments_lexer": "ipython3",
   "version": "3.7.6"
  },
  "toc": {
   "base_numbering": 1,
   "nav_menu": {},
   "number_sections": true,
   "sideBar": true,
   "skip_h1_title": false,
   "title_cell": "Table of Contents",
   "title_sidebar": "Contents",
   "toc_cell": false,
   "toc_position": {},
   "toc_section_display": true,
   "toc_window_display": false
  }
 },
 "nbformat": 4,
 "nbformat_minor": 4
}
